{
 "cells": [
  {
   "cell_type": "code",
   "execution_count": 1,
   "id": "ec4bef1c-b2a0-4fc8-847b-fadccf61f786",
   "metadata": {},
   "outputs": [],
   "source": [
    "a=\"krishna\""
   ]
  },
  {
   "cell_type": "code",
   "execution_count": 2,
   "id": "4d8ece7d-1567-4dde-8c38-31ccd9d57570",
   "metadata": {},
   "outputs": [],
   "source": [
    "b=[1,2,3,\"a\"]"
   ]
  },
  {
   "cell_type": "code",
   "execution_count": 3,
   "id": "12465b4a-d7ed-4d84-be89-02fbcd4cba96",
   "metadata": {},
   "outputs": [],
   "source": [
    "c=23.12"
   ]
  },
  {
   "cell_type": "code",
   "execution_count": 4,
   "id": "c7e0f762-1ae0-40ec-8267-9079e8484eca",
   "metadata": {},
   "outputs": [],
   "source": [
    "d=(2,3)"
   ]
  },
  {
   "cell_type": "raw",
   "id": "e3e37753-94cf-4fac-97b0-96e573792c49",
   "metadata": {},
   "source": [
    "Below are varaibles\n",
    "(i) var1 = ‘ ‘\n",
    "(ii) var2 = ‘[ DS , ML , Python]’\n",
    "(iii) var3 = [ ‘DS’ , ’ML’ , ‘Python’ ]\n",
    "(iv) var4 = 1."
   ]
  },
  {
   "cell_type": "code",
   "execution_count": 6,
   "id": "a04d147e-665d-4ed8-a3c4-31a9264d9cbe",
   "metadata": {},
   "outputs": [],
   "source": [
    "var1 = ' '\n",
    "var2 = '[ DS , ML , Python]'\n",
    "var3 = [ 'DS' , 'ML' , 'Python' ]\n",
    "var4 = 1."
   ]
  },
  {
   "cell_type": "code",
   "execution_count": 11,
   "id": "14506447-5381-4046-8aac-d15c188d43f6",
   "metadata": {},
   "outputs": [
    {
     "name": "stdout",
     "output_type": "stream",
     "text": [
      "var1 :  <class 'str'>\n",
      "var2 :  <class 'str'>\n",
      "var3 :  <class 'list'>\n",
      "var4 :  <class 'float'>\n"
     ]
    }
   ],
   "source": [
    "print(\"var1 : \",type(var1))\n",
    "print(\"var2 : \",type(var2))\n",
    "print(\"var3 : \",type(var3))\n",
    "print(\"var4 : \",type(var4))"
   ]
  },
  {
   "cell_type": "raw",
   "id": "22535587-0741-4d82-a554-585dea6a6c73",
   "metadata": {},
   "source": [
    "Q3. Explain the use of the following operators using an example:\n",
    "(i) /\n",
    "(ii) %\n",
    "(iii) //\n",
    "(iv) **\n"
   ]
  },
  {
   "cell_type": "raw",
   "id": "61b58c65-a241-4308-b028-f30f1117f64d",
   "metadata": {},
   "source": [
    "1. / is used for division"
   ]
  },
  {
   "cell_type": "code",
   "execution_count": 16,
   "id": "2d30d3bb-93e7-4141-b471-ac3e25170e69",
   "metadata": {},
   "outputs": [
    {
     "data": {
      "text/plain": [
       "4.8"
      ]
     },
     "execution_count": 16,
     "metadata": {},
     "output_type": "execute_result"
    }
   ],
   "source": [
    "24/5"
   ]
  },
  {
   "cell_type": "raw",
   "id": "6f26e7d7-d177-46f6-95b6-268371931830",
   "metadata": {},
   "source": [
    "2. % is used to get remainder"
   ]
  },
  {
   "cell_type": "code",
   "execution_count": 18,
   "id": "410ba27c-12b4-417c-9fec-4c057ab1f97e",
   "metadata": {},
   "outputs": [
    {
     "data": {
      "text/plain": [
       "3"
      ]
     },
     "execution_count": 18,
     "metadata": {},
     "output_type": "execute_result"
    }
   ],
   "source": [
    "24%7"
   ]
  },
  {
   "cell_type": "raw",
   "id": "d2322ce2-04c7-4663-a1e3-82edaef5ae8e",
   "metadata": {
    "tags": []
   },
   "source": [
    "3. // is used to get division value without decimals"
   ]
  },
  {
   "cell_type": "code",
   "execution_count": 17,
   "id": "7b43054b-0e48-4fdb-8d17-849df2e6a2b6",
   "metadata": {},
   "outputs": [
    {
     "data": {
      "text/plain": [
       "3"
      ]
     },
     "execution_count": 17,
     "metadata": {},
     "output_type": "execute_result"
    }
   ],
   "source": [
    "24//7"
   ]
  },
  {
   "cell_type": "raw",
   "id": "38d3dacc-d691-486a-9ddf-a4b053ae42c7",
   "metadata": {},
   "source": [
    "4. ** is used as power"
   ]
  },
  {
   "cell_type": "code",
   "execution_count": 19,
   "id": "652458cf-0d85-4087-8c6a-8ca8399e0232",
   "metadata": {},
   "outputs": [
    {
     "data": {
      "text/plain": [
       "16"
      ]
     },
     "execution_count": 19,
     "metadata": {},
     "output_type": "execute_result"
    }
   ],
   "source": [
    "2**4"
   ]
  },
  {
   "cell_type": "code",
   "execution_count": 22,
   "id": "20d2cb23-c170-4cbf-9541-dc5bace28c4a",
   "metadata": {},
   "outputs": [
    {
     "name": "stdout",
     "output_type": "stream",
     "text": [
      "1 <class 'int'>\n",
      "2 <class 'int'>\n",
      "(3+4j) <class 'complex'>\n",
      "sai <class 'str'>\n",
      "['krishna', [1, 2, 3, 'a']] <class 'list'>\n",
      "(1, 2) <class 'tuple'>\n",
      "{'krishna': 'sa'} <class 'dict'>\n",
      "{2, 3, 4} <class 'set'>\n",
      "9.78 <class 'float'>\n",
      "10 <class 'int'>\n"
     ]
    }
   ],
   "source": [
    "#Q4. Create a list of length 10 of your choice containing multiple types of data. Using for loop print the element and its data type.\n",
    "\n",
    "s=[1,2,3+4j,\"sai\",[a,b],(1,2),{a:\"sa\"},{2,3,4},9.78,10]\n",
    "\n",
    "for i in s:\n",
    "    print(i,type(i))"
   ]
  },
  {
   "cell_type": "code",
   "execution_count": 5,
   "id": "019665da-0e6a-4250-9368-e0999470bce4",
   "metadata": {},
   "outputs": [
    {
     "name": "stdout",
     "output_type": "stream",
     "text": [
      "A is purely divisible by B\n",
      "6\n"
     ]
    }
   ],
   "source": [
    "#Q5. Using a while loop, verify if the number A is purely divisible by number B and if so then how many times it can be divisible.\n",
    "a=24\n",
    "b=4\n",
    "c=0\n",
    "while a%b==0:\n",
    "    print(\"A is purely divisible by B\")\n",
    "    break\n",
    "print(a//b)"
   ]
  },
  {
   "cell_type": "code",
   "execution_count": 2,
   "id": "dec847be-9315-47bc-b355-95db538a0951",
   "metadata": {},
   "outputs": [
    {
     "name": "stdout",
     "output_type": "stream",
     "text": [
      "2  is not divisible by 3.\n",
      "5  is not divisible by 3.\n",
      "9  is divisible by 3.\n",
      "12  is divisible by 3.\n",
      "15  is divisible by 3.\n",
      "18  is divisible by 3.\n",
      "21  is divisible by 3.\n",
      "24  is divisible by 3.\n",
      "27  is divisible by 3.\n",
      "30  is divisible by 3.\n",
      "33  is divisible by 3.\n",
      "36  is divisible by 3.\n",
      "35  is not divisible by 3.\n",
      "42  is divisible by 3.\n",
      "47  is not divisible by 3.\n",
      "48  is divisible by 3.\n",
      "53  is not divisible by 3.\n",
      "54  is divisible by 3.\n",
      "57  is divisible by 3.\n",
      "60  is divisible by 3.\n",
      "63  is divisible by 3.\n",
      "66  is divisible by 3.\n",
      "69  is divisible by 3.\n",
      "72  is divisible by 3.\n",
      "75  is divisible by 3.\n"
     ]
    }
   ],
   "source": [
    "#Q6. Create a list containing 25 int type data. Using for loop and if-else condition print if the element is divisible by 3 or not.\n",
    "l = [2, 5, 9, 12, 15, 18, 21, 24, 27, 30,33, 36, 35, 42, 47, 48, 53, 54, 57, 60,63, 66, 69, 72, 75]\n",
    "for i in l:\n",
    "    if i % 3 == 0:\n",
    "        print(i,\" is divisible by 3.\")\n",
    "    else:\n",
    "        print(i,\" is not divisible by 3.\")\n"
   ]
  },
  {
   "cell_type": "code",
   "execution_count": null,
   "id": "163ca010-81db-4c18-b457-e023e7b7e030",
   "metadata": {},
   "outputs": [],
   "source": [
    "#Q7. What do you understand about mutable and immutable data types? Give examples for both showing this property.\n",
    "\n",
    "mutable objects are where we can assign new values to the indexes \n",
    "Example : List\n",
    "Immutable objects are where we cannot assign new values to indexes\n",
    "example : String"
   ]
  }
 ],
 "metadata": {
  "kernelspec": {
   "display_name": "Python 3 (ipykernel)",
   "language": "python",
   "name": "python3"
  },
  "language_info": {
   "codemirror_mode": {
    "name": "ipython",
    "version": 3
   },
   "file_extension": ".py",
   "mimetype": "text/x-python",
   "name": "python",
   "nbconvert_exporter": "python",
   "pygments_lexer": "ipython3",
   "version": "3.10.8"
  }
 },
 "nbformat": 4,
 "nbformat_minor": 5
}
