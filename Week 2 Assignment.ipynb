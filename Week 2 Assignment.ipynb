{
 "cells": [
  {
   "cell_type": "raw",
   "id": "8413a215-492c-4242-934c-9ecaf93fc9c3",
   "metadata": {},
   "source": [
    "There are 3 types of comments\n",
    "1. Single line comments\n",
    "2. In line comments\n",
    "3. Multi line comments\n",
    "\n",
    "below are the examples"
   ]
  },
  {
   "cell_type": "code",
   "execution_count": 1,
   "id": "d4391997-b708-4d7c-87a5-222d435ff86e",
   "metadata": {},
   "outputs": [
    {
     "data": {
      "text/plain": [
       "\"\\nb=[1,2]\\nx='abc'\\nthis is multi line comment\\n\""
      ]
     },
     "execution_count": 1,
     "metadata": {},
     "output_type": "execute_result"
    }
   ],
   "source": [
    "# Single line comment\n",
    "a=[1,2] # this is inline comment\n",
    "'''\n",
    "b=[1,2]\n",
    "x='abc'\n",
    "this is multi line comment\n",
    "'''\n"
   ]
  },
  {
   "cell_type": "markdown",
   "id": "9b227367-0ae4-478a-a0f3-61bffceeceea",
   "metadata": {},
   "source": [
    "variables are names to refr the objects"
   ]
  },
  {
   "cell_type": "code",
   "execution_count": null,
   "id": "5b87a654-e211-4b7e-8193-ef8920f5fc7b",
   "metadata": {},
   "outputs": [],
   "source": [
    "x = 10        # int\n",
    "name = \"krish\" # string\n",
    "price = 20.29 # float "
   ]
  },
  {
   "cell_type": "code",
   "execution_count": 2,
   "id": "bfd48685-d729-4f36-a927-cad42cb2af3a",
   "metadata": {},
   "outputs": [],
   "source": [
    "#using functions we can convert\n",
    "x = 5    \n",
    "# Convert int to float\n",
    "x_float = float(x)\n"
   ]
  },
  {
   "cell_type": "markdown",
   "id": "bfd60e41-2bf0-41a3-8743-05eb36c1ad73",
   "metadata": {},
   "source": [
    "Write a program or code in .py file and open command prompt and execute with python as suffix\n",
    "Ex : python script.py"
   ]
  },
  {
   "cell_type": "code",
   "execution_count": 3,
   "id": "79da9dee-14d1-4fdf-b0c5-5a9b10e5e2ee",
   "metadata": {},
   "outputs": [
    {
     "name": "stdout",
     "output_type": "stream",
     "text": [
      "[2, 3]\n"
     ]
    }
   ],
   "source": [
    "l = [1, 2, 3, 4, 5]\n",
    "sub_list = l[1:3]  \n",
    "print(sub_list)\n"
   ]
  },
  {
   "cell_type": "code",
   "execution_count": 4,
   "id": "2758c0b3-1715-406a-8f3a-397783c2c4e6",
   "metadata": {},
   "outputs": [],
   "source": [
    "#In python we can represent complex number with function complex and also in nother way.\n",
    "z1 = complex(2, 3)  \n",
    "z2 = 2 + 3j      \n"
   ]
  },
  {
   "cell_type": "code",
   "execution_count": 5,
   "id": "8c8afcdd-ea96-4ff4-92b8-83b03a3d9ba8",
   "metadata": {},
   "outputs": [],
   "source": [
    "age = 25"
   ]
  },
  {
   "cell_type": "code",
   "execution_count": 6,
   "id": "9609c59a-a013-4f61-949f-3dc58b51aee4",
   "metadata": {},
   "outputs": [
    {
     "name": "stdout",
     "output_type": "stream",
     "text": [
      "<class 'float'>\n"
     ]
    }
   ],
   "source": [
    "price = 9.99\n",
    "print(type(price))"
   ]
  },
  {
   "cell_type": "code",
   "execution_count": 7,
   "id": "1db2d89d-6266-4733-b345-01f3992ba690",
   "metadata": {},
   "outputs": [
    {
     "name": "stdout",
     "output_type": "stream",
     "text": [
      "Krishna\n"
     ]
    }
   ],
   "source": [
    "name = \"Krishna\"\n",
    "print(name)"
   ]
  },
  {
   "cell_type": "code",
   "execution_count": 8,
   "id": "d3b3f80f-f8d1-43e8-844d-03daf2c0050f",
   "metadata": {},
   "outputs": [
    {
     "name": "stdout",
     "output_type": "stream",
     "text": [
      "World\n"
     ]
    }
   ],
   "source": [
    "greeting = \"Hello, World!\"\n",
    "substring = greeting[7:12] \n",
    "print(substring)            \n"
   ]
  },
  {
   "cell_type": "code",
   "execution_count": 9,
   "id": "a4315b10-531b-4814-b648-9f1b4d1548ee",
   "metadata": {},
   "outputs": [],
   "source": [
    "is_student = True  "
   ]
  },
  {
   "cell_type": "code",
   "execution_count": null,
   "id": "d590e1e5-9173-421a-801d-547dafe11833",
   "metadata": {},
   "outputs": [],
   "source": []
  }
 ],
 "metadata": {
  "kernelspec": {
   "display_name": "Python 3 (ipykernel)",
   "language": "python",
   "name": "python3"
  },
  "language_info": {
   "codemirror_mode": {
    "name": "ipython",
    "version": 3
   },
   "file_extension": ".py",
   "mimetype": "text/x-python",
   "name": "python",
   "nbconvert_exporter": "python",
   "pygments_lexer": "ipython3",
   "version": "3.10.8"
  }
 },
 "nbformat": 4,
 "nbformat_minor": 5
}
